{
 "cells": [
  {
   "cell_type": "code",
   "execution_count": 1,
   "metadata": {},
   "outputs": [],
   "source": [
    "import pandas as pd\n",
    "import matplotlib.pyplot as plt\n",
    "import json\n",
    "from utils import load_jsonl_tuples"
   ]
  },
  {
   "cell_type": "code",
   "execution_count": 2,
   "metadata": {},
   "outputs": [],
   "source": [
    "artists_df = load_jsonl_tuples('../data/v1/artists.jsonl')\n",
    "sessions_df = load_jsonl_tuples('../data/v1/sessions.jsonl')\n",
    "track_storage_df = load_jsonl_tuples('../data/v1/track_storage.jsonl')\n",
    "tracks_df = load_jsonl_tuples('../data/v1/tracks.jsonl')\n",
    "users_df = load_jsonl_tuples('../data/v1/users.jsonl')"
   ]
  },
  {
   "cell_type": "markdown",
   "metadata": {},
   "source": [
    "# Analiza tabel"
   ]
  },
  {
   "cell_type": "markdown",
   "metadata": {},
   "source": [
    "## Tabela artists"
   ]
  },
  {
   "cell_type": "code",
   "execution_count": 3,
   "metadata": {},
   "outputs": [
    {
     "data": {
      "text/html": [
       "<div>\n",
       "<style scoped>\n",
       "    .dataframe tbody tr th:only-of-type {\n",
       "        vertical-align: middle;\n",
       "    }\n",
       "\n",
       "    .dataframe tbody tr th {\n",
       "        vertical-align: top;\n",
       "    }\n",
       "\n",
       "    .dataframe thead th {\n",
       "        text-align: right;\n",
       "    }\n",
       "</style>\n",
       "<table border=\"1\" class=\"dataframe\">\n",
       "  <thead>\n",
       "    <tr style=\"text-align: right;\">\n",
       "      <th></th>\n",
       "      <th>id</th>\n",
       "      <th>name</th>\n",
       "      <th>genres</th>\n",
       "    </tr>\n",
       "  </thead>\n",
       "  <tbody>\n",
       "    <tr>\n",
       "      <th>0</th>\n",
       "      <td>72578usTM6Cj5qWsi471Nc</td>\n",
       "      <td>Raghu Dixit</td>\n",
       "      <td>(filmi, indian folk, indian rock, kannada pop)</td>\n",
       "    </tr>\n",
       "    <tr>\n",
       "      <th>1</th>\n",
       "      <td>7b6Ui7JVaBDEfZB9k6nHL0</td>\n",
       "      <td>The Local Train</td>\n",
       "      <td>(desi pop, hindi indie, indian indie, indian r...</td>\n",
       "    </tr>\n",
       "    <tr>\n",
       "      <th>2</th>\n",
       "      <td>5wJ1H6ud777odtZl5gG507</td>\n",
       "      <td>Vishal Mishra</td>\n",
       "      <td>(desi pop, modern bollywood)</td>\n",
       "    </tr>\n",
       "    <tr>\n",
       "      <th>3</th>\n",
       "      <td>0n4a5imdLBN24fIrBWoqrv</td>\n",
       "      <td>Because</td>\n",
       "      <td>(opm, pinoy hip hop, pinoy r&amp;b, pinoy trap, ta...</td>\n",
       "    </tr>\n",
       "    <tr>\n",
       "      <th>4</th>\n",
       "      <td>4gdMJYnopf2nEUcanAwstx</td>\n",
       "      <td>Anuv Jain</td>\n",
       "      <td>(hindi indie, indian indie, indian singer-song...</td>\n",
       "    </tr>\n",
       "  </tbody>\n",
       "</table>\n",
       "</div>"
      ],
      "text/plain": [
       "                       id             name  \\\n",
       "0  72578usTM6Cj5qWsi471Nc      Raghu Dixit   \n",
       "1  7b6Ui7JVaBDEfZB9k6nHL0  The Local Train   \n",
       "2  5wJ1H6ud777odtZl5gG507    Vishal Mishra   \n",
       "3  0n4a5imdLBN24fIrBWoqrv          Because   \n",
       "4  4gdMJYnopf2nEUcanAwstx        Anuv Jain   \n",
       "\n",
       "                                              genres  \n",
       "0     (filmi, indian folk, indian rock, kannada pop)  \n",
       "1  (desi pop, hindi indie, indian indie, indian r...  \n",
       "2                       (desi pop, modern bollywood)  \n",
       "3  (opm, pinoy hip hop, pinoy r&b, pinoy trap, ta...  \n",
       "4  (hindi indie, indian indie, indian singer-song...  "
      ]
     },
     "execution_count": 3,
     "metadata": {},
     "output_type": "execute_result"
    }
   ],
   "source": [
    "artists_df.head()"
   ]
  },
  {
   "cell_type": "code",
   "execution_count": 4,
   "metadata": {},
   "outputs": [
    {
     "name": "stdout",
     "output_type": "stream",
     "text": [
      "<class 'pandas.core.frame.DataFrame'>\n",
      "RangeIndex: 27650 entries, 0 to 27649\n",
      "Data columns (total 3 columns):\n",
      " #   Column  Non-Null Count  Dtype \n",
      "---  ------  --------------  ----- \n",
      " 0   id      27650 non-null  object\n",
      " 1   name    27650 non-null  object\n",
      " 2   genres  26245 non-null  object\n",
      "dtypes: object(3)\n",
      "memory usage: 648.2+ KB\n",
      "<class 'pandas.core.frame.DataFrame'>\n",
      "Index: 0 entries\n",
      "Data columns (total 3 columns):\n",
      " #   Column  Non-Null Count  Dtype \n",
      "---  ------  --------------  ----- \n",
      " 0   id      0 non-null      object\n",
      " 1   name    0 non-null      object\n",
      " 2   genres  0 non-null      object\n",
      "dtypes: object(3)\n",
      "memory usage: 0.0+ bytes\n"
     ]
    }
   ],
   "source": [
    "artists_df.info()\n",
    "artists_df[artists_df.duplicated()].info()"
   ]
  },
  {
   "cell_type": "code",
   "execution_count": 5,
   "metadata": {},
   "outputs": [
    {
     "data": {
      "text/plain": [
       "id           0\n",
       "name         0\n",
       "genres    1405\n",
       "dtype: int64"
      ]
     },
     "execution_count": 5,
     "metadata": {},
     "output_type": "execute_result"
    }
   ],
   "source": [
    "artists_df.isnull().sum()"
   ]
  },
  {
   "cell_type": "markdown",
   "metadata": {},
   "source": [
    "## Tabela sessions"
   ]
  },
  {
   "cell_type": "code",
   "execution_count": 6,
   "metadata": {},
   "outputs": [
    {
     "data": {
      "text/html": [
       "<div>\n",
       "<style scoped>\n",
       "    .dataframe tbody tr th:only-of-type {\n",
       "        vertical-align: middle;\n",
       "    }\n",
       "\n",
       "    .dataframe tbody tr th {\n",
       "        vertical-align: top;\n",
       "    }\n",
       "\n",
       "    .dataframe thead th {\n",
       "        text-align: right;\n",
       "    }\n",
       "</style>\n",
       "<table border=\"1\" class=\"dataframe\">\n",
       "  <thead>\n",
       "    <tr style=\"text-align: right;\">\n",
       "      <th></th>\n",
       "      <th>timestamp</th>\n",
       "      <th>user_id</th>\n",
       "      <th>track_id</th>\n",
       "      <th>event_type</th>\n",
       "      <th>session_id</th>\n",
       "    </tr>\n",
       "  </thead>\n",
       "  <tbody>\n",
       "    <tr>\n",
       "      <th>0</th>\n",
       "      <td>2024-01-03T13:15:36.207567</td>\n",
       "      <td>101.0</td>\n",
       "      <td>71pw0q9mQD891hI2lJQkbd</td>\n",
       "      <td>play</td>\n",
       "      <td>124</td>\n",
       "    </tr>\n",
       "    <tr>\n",
       "      <th>1</th>\n",
       "      <td>2024-01-03T13:20:22.127567</td>\n",
       "      <td>101.0</td>\n",
       "      <td>71pw0q9mQD891hI2lJQkbd</td>\n",
       "      <td>skip</td>\n",
       "      <td>124</td>\n",
       "    </tr>\n",
       "    <tr>\n",
       "      <th>2</th>\n",
       "      <td>2024-01-03T13:20:22.127567</td>\n",
       "      <td>101.0</td>\n",
       "      <td>0RT95SGCEZvlRtc12gStyG</td>\n",
       "      <td>play</td>\n",
       "      <td>124</td>\n",
       "    </tr>\n",
       "    <tr>\n",
       "      <th>3</th>\n",
       "      <td>2024-01-03T13:24:02.593567</td>\n",
       "      <td>101.0</td>\n",
       "      <td>None</td>\n",
       "      <td>skip</td>\n",
       "      <td>124</td>\n",
       "    </tr>\n",
       "    <tr>\n",
       "      <th>4</th>\n",
       "      <td>2024-01-03T13:24:02.593567</td>\n",
       "      <td>101.0</td>\n",
       "      <td></td>\n",
       "      <td>advertisement</td>\n",
       "      <td>124</td>\n",
       "    </tr>\n",
       "  </tbody>\n",
       "</table>\n",
       "</div>"
      ],
      "text/plain": [
       "                    timestamp  user_id                track_id     event_type  \\\n",
       "0  2024-01-03T13:15:36.207567    101.0  71pw0q9mQD891hI2lJQkbd           play   \n",
       "1  2024-01-03T13:20:22.127567    101.0  71pw0q9mQD891hI2lJQkbd           skip   \n",
       "2  2024-01-03T13:20:22.127567    101.0  0RT95SGCEZvlRtc12gStyG           play   \n",
       "3  2024-01-03T13:24:02.593567    101.0                    None           skip   \n",
       "4  2024-01-03T13:24:02.593567    101.0                          advertisement   \n",
       "\n",
       "   session_id  \n",
       "0         124  \n",
       "1         124  \n",
       "2         124  \n",
       "3         124  \n",
       "4         124  "
      ]
     },
     "execution_count": 6,
     "metadata": {},
     "output_type": "execute_result"
    }
   ],
   "source": [
    "sessions_df.head()"
   ]
  },
  {
   "cell_type": "code",
   "execution_count": 7,
   "metadata": {},
   "outputs": [
    {
     "name": "stdout",
     "output_type": "stream",
     "text": [
      "<class 'pandas.core.frame.DataFrame'>\n",
      "RangeIndex: 3495 entries, 0 to 3494\n",
      "Data columns (total 5 columns):\n",
      " #   Column      Non-Null Count  Dtype  \n",
      "---  ------      --------------  -----  \n",
      " 0   timestamp   3495 non-null   object \n",
      " 1   user_id     3324 non-null   float64\n",
      " 2   track_id    3327 non-null   object \n",
      " 3   event_type  3322 non-null   object \n",
      " 4   session_id  3495 non-null   int64  \n",
      "dtypes: float64(1), int64(1), object(3)\n",
      "memory usage: 136.7+ KB\n",
      "<class 'pandas.core.frame.DataFrame'>\n",
      "Index: 0 entries\n",
      "Data columns (total 5 columns):\n",
      " #   Column      Non-Null Count  Dtype  \n",
      "---  ------      --------------  -----  \n",
      " 0   timestamp   0 non-null      object \n",
      " 1   user_id     0 non-null      float64\n",
      " 2   track_id    0 non-null      object \n",
      " 3   event_type  0 non-null      object \n",
      " 4   session_id  0 non-null      int64  \n",
      "dtypes: float64(1), int64(1), object(3)\n",
      "memory usage: 0.0+ bytes\n"
     ]
    }
   ],
   "source": [
    "sessions_df.info()\n",
    "sessions_df[sessions_df.duplicated()].info()"
   ]
  },
  {
   "cell_type": "code",
   "execution_count": 8,
   "metadata": {},
   "outputs": [
    {
     "data": {
      "text/plain": [
       "timestamp       0\n",
       "user_id       171\n",
       "track_id      168\n",
       "event_type    173\n",
       "session_id      0\n",
       "dtype: int64"
      ]
     },
     "execution_count": 8,
     "metadata": {},
     "output_type": "execute_result"
    }
   ],
   "source": [
    "sessions_df.isnull().sum()"
   ]
  },
  {
   "cell_type": "code",
   "execution_count": 9,
   "metadata": {},
   "outputs": [
    {
     "name": "stdout",
     "output_type": "stream",
     "text": [
      "null count for track_id of type play: 98\n",
      "null count for track_id of type skip: 33\n",
      "null count for track_id of type advertisement: 2\n",
      "null count for track_id of type buy_premium: 2\n",
      "null count for track_id of type like: 27\n",
      "null count for track_id of type None: 0\n"
     ]
    }
   ],
   "source": [
    "for event_type in sessions_df['event_type'].unique():\n",
    "    null_count = sessions_df[(sessions_df['event_type'] == event_type) & (sessions_df['track_id'].isnull())]\n",
    "    null_count = len(null_count['track_id'])\n",
    "    print(f'null count for track_id of type {event_type}: {null_count}')"
   ]
  },
  {
   "cell_type": "code",
   "execution_count": 10,
   "metadata": {},
   "outputs": [
    {
     "name": "stdout",
     "output_type": "stream",
     "text": [
      "event_type\n",
      "play             2006\n",
      "skip              686\n",
      "like              548\n",
      "buy_premium        46\n",
      "advertisement      36\n",
      "Name: count, dtype: int64\n"
     ]
    },
    {
     "data": {
      "image/png": "[encoded data removed]",
      "text/plain": [
       "<Figure size 640x480 with 1 Axes>"
      ]
     },
     "metadata": {},
     "output_type": "display_data"
    }
   ],
   "source": [
    "event_type_distribution = sessions_df['event_type'].value_counts()\n",
    "print(event_type_distribution)\n",
    "\n",
    "plt.bar(event_type_distribution.index, event_type_distribution.values, color='blue')\n",
    "plt.title('event_type distribution')\n",
    "plt.xlabel('type')\n",
    "plt.ylabel('count')\n",
    "plt.show()"
   ]
  },
  {
   "cell_type": "markdown",
   "metadata": {},
   "source": [
    "## Tabela track_storage"
   ]
  },
  {
   "cell_type": "code",
   "execution_count": 11,
   "metadata": {},
   "outputs": [
    {
     "data": {
      "text/html": [
       "<div>\n",
       "<style scoped>\n",
       "    .dataframe tbody tr th:only-of-type {\n",
       "        vertical-align: middle;\n",
       "    }\n",
       "\n",
       "    .dataframe tbody tr th {\n",
       "        vertical-align: top;\n",
       "    }\n",
       "\n",
       "    .dataframe thead th {\n",
       "        text-align: right;\n",
       "    }\n",
       "</style>\n",
       "<table border=\"1\" class=\"dataframe\">\n",
       "  <thead>\n",
       "    <tr style=\"text-align: right;\">\n",
       "      <th></th>\n",
       "      <th>track_id</th>\n",
       "      <th>storage_class</th>\n",
       "      <th>daily_cost</th>\n",
       "    </tr>\n",
       "  </thead>\n",
       "  <tbody>\n",
       "    <tr>\n",
       "      <th>0</th>\n",
       "      <td>6C0WWu7RYKbAgWUI3YC0sT</td>\n",
       "      <td>slow</td>\n",
       "      <td>0.012479</td>\n",
       "    </tr>\n",
       "    <tr>\n",
       "      <th>1</th>\n",
       "      <td>4q7EBRq8ncztC2PRmEC7Fy</td>\n",
       "      <td>slow</td>\n",
       "      <td>0.012737</td>\n",
       "    </tr>\n",
       "    <tr>\n",
       "      <th>2</th>\n",
       "      <td>7cNyONpVADZVrW9xe3qq4z</td>\n",
       "      <td>slow</td>\n",
       "      <td>0.013967</td>\n",
       "    </tr>\n",
       "    <tr>\n",
       "      <th>3</th>\n",
       "      <td>1bKRTzTFz7wHMxpgZSuPR1</td>\n",
       "      <td>slow</td>\n",
       "      <td>0.009685</td>\n",
       "    </tr>\n",
       "    <tr>\n",
       "      <th>4</th>\n",
       "      <td>56OEjuyZ3AROnv4aR1XqhD</td>\n",
       "      <td>slow</td>\n",
       "      <td>0.009106</td>\n",
       "    </tr>\n",
       "  </tbody>\n",
       "</table>\n",
       "</div>"
      ],
      "text/plain": [
       "                 track_id storage_class  daily_cost\n",
       "0  6C0WWu7RYKbAgWUI3YC0sT          slow    0.012479\n",
       "1  4q7EBRq8ncztC2PRmEC7Fy          slow    0.012737\n",
       "2  7cNyONpVADZVrW9xe3qq4z          slow    0.013967\n",
       "3  1bKRTzTFz7wHMxpgZSuPR1          slow    0.009685\n",
       "4  56OEjuyZ3AROnv4aR1XqhD          slow    0.009106"
      ]
     },
     "execution_count": 11,
     "metadata": {},
     "output_type": "execute_result"
    }
   ],
   "source": [
    "track_storage_df.head()"
   ]
  },
  {
   "cell_type": "code",
   "execution_count": 12,
   "metadata": {},
   "outputs": [
    {
     "name": "stdout",
     "output_type": "stream",
     "text": [
      "<class 'pandas.core.frame.DataFrame'>\n",
      "RangeIndex: 129648 entries, 0 to 129647\n",
      "Data columns (total 3 columns):\n",
      " #   Column         Non-Null Count   Dtype  \n",
      "---  ------         --------------   -----  \n",
      " 0   track_id       129648 non-null  object \n",
      " 1   storage_class  129648 non-null  object \n",
      " 2   daily_cost     129648 non-null  float64\n",
      "dtypes: float64(1), object(2)\n",
      "memory usage: 3.0+ MB\n",
      "<class 'pandas.core.frame.DataFrame'>\n",
      "Index: 0 entries\n",
      "Data columns (total 3 columns):\n",
      " #   Column         Non-Null Count  Dtype  \n",
      "---  ------         --------------  -----  \n",
      " 0   track_id       0 non-null      object \n",
      " 1   storage_class  0 non-null      object \n",
      " 2   daily_cost     0 non-null      float64\n",
      "dtypes: float64(1), object(2)\n",
      "memory usage: 0.0+ bytes\n"
     ]
    }
   ],
   "source": [
    "track_storage_df.info()\n",
    "track_storage_df[track_storage_df.duplicated()].info()"
   ]
  },
  {
   "cell_type": "code",
   "execution_count": 13,
   "metadata": {},
   "outputs": [
    {
     "data": {
      "text/plain": [
       "track_id         0\n",
       "storage_class    0\n",
       "daily_cost       0\n",
       "dtype: int64"
      ]
     },
     "execution_count": 13,
     "metadata": {},
     "output_type": "execute_result"
    }
   ],
   "source": [
    "track_storage_df.isnull().sum()"
   ]
  },
  {
   "cell_type": "code",
   "execution_count": 14,
   "metadata": {},
   "outputs": [
    {
     "data": {
      "text/plain": [
       "array([[<Axes: title={'center': 'daily_cost'}>]], dtype=object)"
      ]
     },
     "execution_count": 14,
     "metadata": {},
     "output_type": "execute_result"
    },
    {
     "data": {
      "image/png": "[encoded data removed]",
      "text/plain": [
       "<Figure size 640x480 with 1 Axes>"
      ]
     },
     "metadata": {},
     "output_type": "display_data"
    }
   ],
   "source": [
    "track_storage_df.hist()"
   ]
  },
  {
   "cell_type": "code",
   "execution_count": 15,
   "metadata": {},
   "outputs": [
    {
     "name": "stdout",
     "output_type": "stream",
     "text": [
      "storage_class\n",
      "slow      128433\n",
      "medium      1208\n",
      "fast           7\n",
      "Name: count, dtype: int64\n"
     ]
    },
    {
     "data": {
      "image/png": "[encoded data removed]",
      "text/plain": [
       "<Figure size 640x480 with 1 Axes>"
      ]
     },
     "metadata": {},
     "output_type": "display_data"
    }
   ],
   "source": [
    "storage_class_distribution = track_storage_df['storage_class'].value_counts()\n",
    "print(storage_class_distribution)\n",
    "\n",
    "plt.bar(storage_class_distribution.index, storage_class_distribution.values, color='blue')\n",
    "plt.title('storage_class distribution')\n",
    "plt.xlabel('class')\n",
    "plt.ylabel('count')\n",
    "plt.show()"
   ]
  },
  {
   "cell_type": "markdown",
   "metadata": {},
   "source": [
    "## Tabela tracks"
   ]
  },
  {
   "cell_type": "code",
   "execution_count": 16,
   "metadata": {},
   "outputs": [
    {
     "data": {
      "text/html": [
       "<div>\n",
       "<style scoped>\n",
       "    .dataframe tbody tr th:only-of-type {\n",
       "        vertical-align: middle;\n",
       "    }\n",
       "\n",
       "    .dataframe tbody tr th {\n",
       "        vertical-align: top;\n",
       "    }\n",
       "\n",
       "    .dataframe thead th {\n",
       "        text-align: right;\n",
       "    }\n",
       "</style>\n",
       "<table border=\"1\" class=\"dataframe\">\n",
       "  <thead>\n",
       "    <tr style=\"text-align: right;\">\n",
       "      <th></th>\n",
       "      <th>id</th>\n",
       "      <th>name</th>\n",
       "      <th>popularity</th>\n",
       "      <th>duration_ms</th>\n",
       "      <th>explicit</th>\n",
       "      <th>id_artist</th>\n",
       "      <th>release_date</th>\n",
       "      <th>danceability</th>\n",
       "      <th>energy</th>\n",
       "      <th>key</th>\n",
       "      <th>mode</th>\n",
       "      <th>loudness</th>\n",
       "      <th>speechiness</th>\n",
       "      <th>acousticness</th>\n",
       "      <th>instrumentalness</th>\n",
       "      <th>liveness</th>\n",
       "      <th>valence</th>\n",
       "      <th>tempo</th>\n",
       "      <th>time_signature</th>\n",
       "    </tr>\n",
       "  </thead>\n",
       "  <tbody>\n",
       "    <tr>\n",
       "      <th>0</th>\n",
       "      <td>6C0WWu7RYKbAgWUI3YC0sT</td>\n",
       "      <td>Voglio farti un regalo</td>\n",
       "      <td>40.0</td>\n",
       "      <td>249573</td>\n",
       "      <td>1</td>\n",
       "      <td>7u710e44HW3K7A5eTnRqHC</td>\n",
       "      <td>2004-09-01</td>\n",
       "      <td>0.727</td>\n",
       "      <td>0.6630</td>\n",
       "      <td>4</td>\n",
       "      <td>NaN</td>\n",
       "      <td>-4.818</td>\n",
       "      <td>0.2770</td>\n",
       "      <td>0.08010</td>\n",
       "      <td>0.000000</td>\n",
       "      <td>0.119</td>\n",
       "      <td>0.633</td>\n",
       "      <td>97.865</td>\n",
       "      <td>4</td>\n",
       "    </tr>\n",
       "    <tr>\n",
       "      <th>1</th>\n",
       "      <td>4q7EBRq8ncztC2PRmEC7Fy</td>\n",
       "      <td>My Love - Live / Remastered</td>\n",
       "      <td>34.0</td>\n",
       "      <td>254733</td>\n",
       "      <td>0</td>\n",
       "      <td>3sFhA6G1N0gG1pszb6kk1m</td>\n",
       "      <td>1976-12-10</td>\n",
       "      <td>0.444</td>\n",
       "      <td>0.3480</td>\n",
       "      <td>5</td>\n",
       "      <td>1.0</td>\n",
       "      <td>-12.729</td>\n",
       "      <td>0.0321</td>\n",
       "      <td>0.65600</td>\n",
       "      <td>0.003740</td>\n",
       "      <td>0.956</td>\n",
       "      <td>0.284</td>\n",
       "      <td>116.685</td>\n",
       "      <td>4</td>\n",
       "    </tr>\n",
       "    <tr>\n",
       "      <th>2</th>\n",
       "      <td>7cNyONpVADZVrW9xe3qq4z</td>\n",
       "      <td>Heroes of Sand</td>\n",
       "      <td>45.0</td>\n",
       "      <td>279347</td>\n",
       "      <td>0</td>\n",
       "      <td>7IAXZaLTb6nkJr8RmVPn5y</td>\n",
       "      <td>2001</td>\n",
       "      <td>0.273</td>\n",
       "      <td>0.8990</td>\n",
       "      <td>6</td>\n",
       "      <td>1.0</td>\n",
       "      <td>-5.131</td>\n",
       "      <td>0.0499</td>\n",
       "      <td>0.00177</td>\n",
       "      <td>0.000006</td>\n",
       "      <td>0.128</td>\n",
       "      <td>0.301</td>\n",
       "      <td>159.872</td>\n",
       "      <td>3</td>\n",
       "    </tr>\n",
       "    <tr>\n",
       "      <th>3</th>\n",
       "      <td>1bKRTzTFz7wHMxpgZSuPR1</td>\n",
       "      <td>Shine on Harvest Moon</td>\n",
       "      <td>6.0</td>\n",
       "      <td>193707</td>\n",
       "      <td>0</td>\n",
       "      <td>5bOsFzuJ6QZMr86ezC4oXY</td>\n",
       "      <td>1961-10-15</td>\n",
       "      <td>0.628</td>\n",
       "      <td>0.0616</td>\n",
       "      <td>0</td>\n",
       "      <td>1.0</td>\n",
       "      <td>-24.973</td>\n",
       "      <td>0.0558</td>\n",
       "      <td>0.78400</td>\n",
       "      <td>0.000009</td>\n",
       "      <td>0.172</td>\n",
       "      <td>0.340</td>\n",
       "      <td>85.012</td>\n",
       "      <td>4</td>\n",
       "    </tr>\n",
       "    <tr>\n",
       "      <th>4</th>\n",
       "      <td>56OEjuyZ3AROnv4aR1XqhD</td>\n",
       "      <td>男子漢</td>\n",
       "      <td>19.0</td>\n",
       "      <td>182120</td>\n",
       "      <td>0</td>\n",
       "      <td>6zJ7WZkyTNmB1bFdmHH2k9</td>\n",
       "      <td>1970-01-11</td>\n",
       "      <td>0.353</td>\n",
       "      <td>0.0663</td>\n",
       "      <td>8</td>\n",
       "      <td>NaN</td>\n",
       "      <td>-24.915</td>\n",
       "      <td>0.0445</td>\n",
       "      <td>0.95800</td>\n",
       "      <td>0.000446</td>\n",
       "      <td>0.241</td>\n",
       "      <td>0.317</td>\n",
       "      <td>100.041</td>\n",
       "      <td>4</td>\n",
       "    </tr>\n",
       "  </tbody>\n",
       "</table>\n",
       "</div>"
      ],
      "text/plain": [
       "                       id                         name  popularity  \\\n",
       "0  6C0WWu7RYKbAgWUI3YC0sT       Voglio farti un regalo        40.0   \n",
       "1  4q7EBRq8ncztC2PRmEC7Fy  My Love - Live / Remastered        34.0   \n",
       "2  7cNyONpVADZVrW9xe3qq4z               Heroes of Sand        45.0   \n",
       "3  1bKRTzTFz7wHMxpgZSuPR1        Shine on Harvest Moon         6.0   \n",
       "4  56OEjuyZ3AROnv4aR1XqhD                          男子漢        19.0   \n",
       "\n",
       "   duration_ms  explicit               id_artist release_date  danceability  \\\n",
       "0       249573         1  7u710e44HW3K7A5eTnRqHC   2004-09-01         0.727   \n",
       "1       254733         0  3sFhA6G1N0gG1pszb6kk1m   1976-12-10         0.444   \n",
       "2       279347         0  7IAXZaLTb6nkJr8RmVPn5y         2001         0.273   \n",
       "3       193707         0  5bOsFzuJ6QZMr86ezC4oXY   1961-10-15         0.628   \n",
       "4       182120         0  6zJ7WZkyTNmB1bFdmHH2k9   1970-01-11         0.353   \n",
       "\n",
       "   energy  key  mode  loudness  speechiness  acousticness  instrumentalness  \\\n",
       "0  0.6630    4   NaN    -4.818       0.2770       0.08010          0.000000   \n",
       "1  0.3480    5   1.0   -12.729       0.0321       0.65600          0.003740   \n",
       "2  0.8990    6   1.0    -5.131       0.0499       0.00177          0.000006   \n",
       "3  0.0616    0   1.0   -24.973       0.0558       0.78400          0.000009   \n",
       "4  0.0663    8   NaN   -24.915       0.0445       0.95800          0.000446   \n",
       "\n",
       "   liveness  valence    tempo  time_signature  \n",
       "0     0.119    0.633   97.865               4  \n",
       "1     0.956    0.284  116.685               4  \n",
       "2     0.128    0.301  159.872               3  \n",
       "3     0.172    0.340   85.012               4  \n",
       "4     0.241    0.317  100.041               4  "
      ]
     },
     "execution_count": 16,
     "metadata": {},
     "output_type": "execute_result"
    }
   ],
   "source": [
    "tracks_df.head()"
   ]
  },
  {
   "cell_type": "code",
   "execution_count": 17,
   "metadata": {},
   "outputs": [
    {
     "name": "stdout",
     "output_type": "stream",
     "text": [
      "<class 'pandas.core.frame.DataFrame'>\n",
      "RangeIndex: 129648 entries, 0 to 129647\n",
      "Data columns (total 19 columns):\n",
      " #   Column            Non-Null Count   Dtype  \n",
      "---  ------            --------------   -----  \n",
      " 0   id                123139 non-null  object \n",
      " 1   name              123064 non-null  object \n",
      " 2   popularity        123189 non-null  float64\n",
      " 3   duration_ms       129648 non-null  int64  \n",
      " 4   explicit          129648 non-null  int64  \n",
      " 5   id_artist         123141 non-null  object \n",
      " 6   release_date      129648 non-null  object \n",
      " 7   danceability      129648 non-null  float64\n",
      " 8   energy            129648 non-null  float64\n",
      " 9   key               129648 non-null  int64  \n",
      " 10  mode              52217 non-null   float64\n",
      " 11  loudness          129648 non-null  float64\n",
      " 12  speechiness       129648 non-null  float64\n",
      " 13  acousticness      129648 non-null  float64\n",
      " 14  instrumentalness  129648 non-null  float64\n",
      " 15  liveness          129648 non-null  float64\n",
      " 16  valence           129648 non-null  float64\n",
      " 17  tempo             129648 non-null  float64\n",
      " 18  time_signature    129648 non-null  int64  \n",
      "dtypes: float64(11), int64(4), object(4)\n",
      "memory usage: 18.8+ MB\n",
      "<class 'pandas.core.frame.DataFrame'>\n",
      "Index: 0 entries\n",
      "Data columns (total 19 columns):\n",
      " #   Column            Non-Null Count  Dtype  \n",
      "---  ------            --------------  -----  \n",
      " 0   id                0 non-null      object \n",
      " 1   name              0 non-null      object \n",
      " 2   popularity        0 non-null      float64\n",
      " 3   duration_ms       0 non-null      int64  \n",
      " 4   explicit          0 non-null      int64  \n",
      " 5   id_artist         0 non-null      object \n",
      " 6   release_date      0 non-null      object \n",
      " 7   danceability      0 non-null      float64\n",
      " 8   energy            0 non-null      float64\n",
      " 9   key               0 non-null      int64  \n",
      " 10  mode              0 non-null      float64\n",
      " 11  loudness          0 non-null      float64\n",
      " 12  speechiness       0 non-null      float64\n",
      " 13  acousticness      0 non-null      float64\n",
      " 14  instrumentalness  0 non-null      float64\n",
      " 15  liveness          0 non-null      float64\n",
      " 16  valence           0 non-null      float64\n",
      " 17  tempo             0 non-null      float64\n",
      " 18  time_signature    0 non-null      int64  \n",
      "dtypes: float64(11), int64(4), object(4)\n",
      "memory usage: 0.0+ bytes\n"
     ]
    }
   ],
   "source": [
    "tracks_df.info()\n",
    "tracks_df[tracks_df.duplicated()].info()"
   ]
  },
  {
   "cell_type": "code",
   "execution_count": 18,
   "metadata": {},
   "outputs": [
    {
     "data": {
      "text/plain": [
       "id                   6509\n",
       "name                 6584\n",
       "popularity           6459\n",
       "duration_ms             0\n",
       "explicit                0\n",
       "id_artist            6507\n",
       "release_date            0\n",
       "danceability            0\n",
       "energy                  0\n",
       "key                     0\n",
       "mode                77431\n",
       "loudness                0\n",
       "speechiness             0\n",
       "acousticness            0\n",
       "instrumentalness        0\n",
       "liveness                0\n",
       "valence                 0\n",
       "tempo                   0\n",
       "time_signature          0\n",
       "dtype: int64"
      ]
     },
     "execution_count": 18,
     "metadata": {},
     "output_type": "execute_result"
    }
   ],
   "source": [
    "tracks_df.isnull().sum()"
   ]
  },
  {
   "cell_type": "code",
   "execution_count": 19,
   "metadata": {},
   "outputs": [
    {
     "data": {
      "text/plain": [
       "array([[<Axes: title={'center': 'popularity'}>,\n",
       "        <Axes: title={'center': 'duration_ms'}>,\n",
       "        <Axes: title={'center': 'explicit'}>,\n",
       "        <Axes: title={'center': 'danceability'}>],\n",
       "       [<Axes: title={'center': 'energy'}>,\n",
       "        <Axes: title={'center': 'key'}>,\n",
       "        <Axes: title={'center': 'mode'}>,\n",
       "        <Axes: title={'center': 'loudness'}>],\n",
       "       [<Axes: title={'center': 'speechiness'}>,\n",
       "        <Axes: title={'center': 'acousticness'}>,\n",
       "        <Axes: title={'center': 'instrumentalness'}>,\n",
       "        <Axes: title={'center': 'liveness'}>],\n",
       "       [<Axes: title={'center': 'valence'}>,\n",
       "        <Axes: title={'center': 'tempo'}>,\n",
       "        <Axes: title={'center': 'time_signature'}>, <Axes: >]],\n",
       "      dtype=object)"
      ]
     },
     "execution_count": 19,
     "metadata": {},
     "output_type": "execute_result"
    },
    {
     "data": {
      "image/png": "[encoded data removed]",
      "text/plain": [
       "<Figure size 1200x1200 with 16 Axes>"
      ]
     },
     "metadata": {},
     "output_type": "display_data"
    }
   ],
   "source": [
    "tracks_df.hist(figsize=(12, 12))"
   ]
  },
  {
   "cell_type": "markdown",
   "metadata": {},
   "source": [
    "## Tabela users"
   ]
  },
  {
   "cell_type": "code",
   "execution_count": 20,
   "metadata": {},
   "outputs": [
    {
     "data": {
      "text/html": [
       "<div>\n",
       "<style scoped>\n",
       "    .dataframe tbody tr th:only-of-type {\n",
       "        vertical-align: middle;\n",
       "    }\n",
       "\n",
       "    .dataframe tbody tr th {\n",
       "        vertical-align: top;\n",
       "    }\n",
       "\n",
       "    .dataframe thead th {\n",
       "        text-align: right;\n",
       "    }\n",
       "</style>\n",
       "<table border=\"1\" class=\"dataframe\">\n",
       "  <thead>\n",
       "    <tr style=\"text-align: right;\">\n",
       "      <th></th>\n",
       "      <th>user_id</th>\n",
       "      <th>name</th>\n",
       "      <th>city</th>\n",
       "      <th>street</th>\n",
       "      <th>favourite_genres</th>\n",
       "      <th>premium_user</th>\n",
       "      <th>id</th>\n",
       "    </tr>\n",
       "  </thead>\n",
       "  <tbody>\n",
       "    <tr>\n",
       "      <th>0</th>\n",
       "      <td>101</td>\n",
       "      <td>Maurycy Lejk</td>\n",
       "      <td>Wrocław</td>\n",
       "      <td>al. Powstańców Śląskich 04</td>\n",
       "      <td>None</td>\n",
       "      <td>True</td>\n",
       "      <td>NaN</td>\n",
       "    </tr>\n",
       "    <tr>\n",
       "      <th>1</th>\n",
       "      <td>102</td>\n",
       "      <td>Julian Rohde</td>\n",
       "      <td>Kraków</td>\n",
       "      <td>al. Rataja 793</td>\n",
       "      <td>(classic rock, dance pop, argentine rock)</td>\n",
       "      <td>True</td>\n",
       "      <td>NaN</td>\n",
       "    </tr>\n",
       "    <tr>\n",
       "      <th>2</th>\n",
       "      <td>103</td>\n",
       "      <td>Jerzy Żelazo</td>\n",
       "      <td>Kraków</td>\n",
       "      <td>pl. Orzechowa 509</td>\n",
       "      <td>(pop rock, new wave, new romantic)</td>\n",
       "      <td>True</td>\n",
       "      <td>NaN</td>\n",
       "    </tr>\n",
       "    <tr>\n",
       "      <th>3</th>\n",
       "      <td>104</td>\n",
       "      <td>Ada Mazanek</td>\n",
       "      <td>Warszawa</td>\n",
       "      <td>pl. Zacisze 78/30</td>\n",
       "      <td>(new romantic, alternative rock, c-pop)</td>\n",
       "      <td>True</td>\n",
       "      <td>NaN</td>\n",
       "    </tr>\n",
       "    <tr>\n",
       "      <th>4</th>\n",
       "      <td>105</td>\n",
       "      <td>Ernest Kukieła</td>\n",
       "      <td>Warszawa</td>\n",
       "      <td>al. Orla 40</td>\n",
       "      <td>(country rock, metal, mpb)</td>\n",
       "      <td>True</td>\n",
       "      <td>NaN</td>\n",
       "    </tr>\n",
       "  </tbody>\n",
       "</table>\n",
       "</div>"
      ],
      "text/plain": [
       "   user_id            name      city                      street  \\\n",
       "0      101    Maurycy Lejk   Wrocław  al. Powstańców Śląskich 04   \n",
       "1      102    Julian Rohde    Kraków              al. Rataja 793   \n",
       "2      103    Jerzy Żelazo    Kraków           pl. Orzechowa 509   \n",
       "3      104     Ada Mazanek  Warszawa           pl. Zacisze 78/30   \n",
       "4      105  Ernest Kukieła  Warszawa                 al. Orla 40   \n",
       "\n",
       "                            favourite_genres premium_user  id  \n",
       "0                                       None         True NaN  \n",
       "1  (classic rock, dance pop, argentine rock)         True NaN  \n",
       "2         (pop rock, new wave, new romantic)         True NaN  \n",
       "3    (new romantic, alternative rock, c-pop)         True NaN  \n",
       "4                 (country rock, metal, mpb)         True NaN  "
      ]
     },
     "execution_count": 20,
     "metadata": {},
     "output_type": "execute_result"
    }
   ],
   "source": [
    "users_df.head()"
   ]
  },
  {
   "cell_type": "code",
   "execution_count": 21,
   "metadata": {},
   "outputs": [
    {
     "name": "stdout",
     "output_type": "stream",
     "text": [
      "<class 'pandas.core.frame.DataFrame'>\n",
      "RangeIndex: 50 entries, 0 to 49\n",
      "Data columns (total 7 columns):\n",
      " #   Column            Non-Null Count  Dtype  \n",
      "---  ------            --------------  -----  \n",
      " 0   user_id           50 non-null     int64  \n",
      " 1   name              50 non-null     object \n",
      " 2   city              50 non-null     object \n",
      " 3   street            50 non-null     object \n",
      " 4   favourite_genres  48 non-null     object \n",
      " 5   premium_user      47 non-null     object \n",
      " 6   id                1 non-null      float64\n",
      "dtypes: float64(1), int64(1), object(5)\n",
      "memory usage: 2.9+ KB\n",
      "<class 'pandas.core.frame.DataFrame'>\n",
      "Index: 0 entries\n",
      "Data columns (total 7 columns):\n",
      " #   Column            Non-Null Count  Dtype  \n",
      "---  ------            --------------  -----  \n",
      " 0   user_id           0 non-null      int64  \n",
      " 1   name              0 non-null      object \n",
      " 2   city              0 non-null      object \n",
      " 3   street            0 non-null      object \n",
      " 4   favourite_genres  0 non-null      object \n",
      " 5   premium_user      0 non-null      object \n",
      " 6   id                0 non-null      float64\n",
      "dtypes: float64(1), int64(1), object(5)\n",
      "memory usage: 0.0+ bytes\n"
     ]
    }
   ],
   "source": [
    "users_df.info()\n",
    "users_df[users_df.duplicated()].info()"
   ]
  },
  {
   "cell_type": "code",
   "execution_count": 22,
   "metadata": {},
   "outputs": [
    {
     "data": {
      "text/plain": [
       "user_id              0\n",
       "name                 0\n",
       "city                 0\n",
       "street               0\n",
       "favourite_genres     2\n",
       "premium_user         3\n",
       "id                  49\n",
       "dtype: int64"
      ]
     },
     "execution_count": 22,
     "metadata": {},
     "output_type": "execute_result"
    }
   ],
   "source": [
    "users_df.isnull().sum()"
   ]
  }
 ],
 "metadata": {
  "kernelspec": {
   "display_name": "venv",
   "language": "python",
   "name": "python3"
  },
  "language_info": {
   "codemirror_mode": {
    "name": "ipython",
    "version": 3
   },
   "file_extension": ".py",
   "mimetype": "text/x-python",
   "name": "python",
   "nbconvert_exporter": "python",
   "pygments_lexer": "ipython3",
   "version": "3.11.4"
  }
 },
 "nbformat": 4,
 "nbformat_minor": 2
}
