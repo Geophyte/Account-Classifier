{
 "cells": [
  {
   "cell_type": "code",
   "execution_count": 10,
   "metadata": {},
   "outputs": [],
   "source": [
    "import os\n",
    "import pandas as pd\n",
    "\n",
    "current_dir = os.getcwd()\n",
    "final_path = os.path.join(current_dir, '..', 'data', 'final', 'final.csv')\n",
    "selected_path = os.path.join(current_dir, '..', 'data', 'final', 'selected.csv')\n",
    "\n",
    "final_df = pd.read_csv(final_path)\n",
    "selected_df = pd.read_csv(selected_path).values"
   ]
  },
  {
   "cell_type": "markdown",
   "metadata": {},
   "source": [
    "### Przygotowanie danych"
   ]
  },
  {
   "cell_type": "code",
   "execution_count": 11,
   "metadata": {},
   "outputs": [
    {
     "data": {
      "text/html": [
       "<div>\n",
       "<style scoped>\n",
       "    .dataframe tbody tr th:only-of-type {\n",
       "        vertical-align: middle;\n",
       "    }\n",
       "\n",
       "    .dataframe tbody tr th {\n",
       "        vertical-align: top;\n",
       "    }\n",
       "\n",
       "    .dataframe thead th {\n",
       "        text-align: right;\n",
       "    }\n",
       "</style>\n",
       "<table border=\"1\" class=\"dataframe\">\n",
       "  <thead>\n",
       "    <tr style=\"text-align: right;\">\n",
       "      <th></th>\n",
       "      <th>premium_user</th>\n",
       "      <th>popularity_mean</th>\n",
       "      <th>popularity_std</th>\n",
       "      <th>popularity_min</th>\n",
       "      <th>popularity_max</th>\n",
       "      <th>duration_ms_mean</th>\n",
       "      <th>duration_ms_std</th>\n",
       "      <th>duration_ms_min</th>\n",
       "      <th>duration_ms_max</th>\n",
       "      <th>explicit_ratio</th>\n",
       "      <th>...</th>\n",
       "      <th>q</th>\n",
       "      <th>r</th>\n",
       "      <th>s</th>\n",
       "      <th>t</th>\n",
       "      <th>u</th>\n",
       "      <th>v</th>\n",
       "      <th>w</th>\n",
       "      <th>x</th>\n",
       "      <th>y</th>\n",
       "      <th>z</th>\n",
       "    </tr>\n",
       "  </thead>\n",
       "  <tbody>\n",
       "    <tr>\n",
       "      <th>0</th>\n",
       "      <td>False</td>\n",
       "      <td>-0.997069</td>\n",
       "      <td>-0.995204</td>\n",
       "      <td>-0.319064</td>\n",
       "      <td>-0.994713</td>\n",
       "      <td>-1.059379</td>\n",
       "      <td>-0.409611</td>\n",
       "      <td>-0.430490</td>\n",
       "      <td>-0.491912</td>\n",
       "      <td>-1.065425</td>\n",
       "      <td>...</td>\n",
       "      <td>0</td>\n",
       "      <td>1</td>\n",
       "      <td>0</td>\n",
       "      <td>1</td>\n",
       "      <td>1</td>\n",
       "      <td>0</td>\n",
       "      <td>1</td>\n",
       "      <td>0</td>\n",
       "      <td>0</td>\n",
       "      <td>0</td>\n",
       "    </tr>\n",
       "    <tr>\n",
       "      <th>1</th>\n",
       "      <td>False</td>\n",
       "      <td>1.066575</td>\n",
       "      <td>0.740434</td>\n",
       "      <td>2.270742</td>\n",
       "      <td>0.713372</td>\n",
       "      <td>0.661699</td>\n",
       "      <td>-0.043242</td>\n",
       "      <td>1.994549</td>\n",
       "      <td>-0.098518</td>\n",
       "      <td>0.176852</td>\n",
       "      <td>...</td>\n",
       "      <td>0</td>\n",
       "      <td>1</td>\n",
       "      <td>0</td>\n",
       "      <td>1</td>\n",
       "      <td>0</td>\n",
       "      <td>1</td>\n",
       "      <td>1</td>\n",
       "      <td>0</td>\n",
       "      <td>0</td>\n",
       "      <td>0</td>\n",
       "    </tr>\n",
       "    <tr>\n",
       "      <th>2</th>\n",
       "      <td>False</td>\n",
       "      <td>-0.997069</td>\n",
       "      <td>-0.995204</td>\n",
       "      <td>-0.319064</td>\n",
       "      <td>-0.994713</td>\n",
       "      <td>-1.429353</td>\n",
       "      <td>-0.963033</td>\n",
       "      <td>0.339053</td>\n",
       "      <td>-0.735753</td>\n",
       "      <td>-0.814081</td>\n",
       "      <td>...</td>\n",
       "      <td>0</td>\n",
       "      <td>1</td>\n",
       "      <td>1</td>\n",
       "      <td>0</td>\n",
       "      <td>1</td>\n",
       "      <td>0</td>\n",
       "      <td>0</td>\n",
       "      <td>0</td>\n",
       "      <td>0</td>\n",
       "      <td>0</td>\n",
       "    </tr>\n",
       "    <tr>\n",
       "      <th>3</th>\n",
       "      <td>False</td>\n",
       "      <td>-0.997069</td>\n",
       "      <td>-0.995204</td>\n",
       "      <td>-0.319064</td>\n",
       "      <td>-0.994713</td>\n",
       "      <td>-1.192440</td>\n",
       "      <td>-0.607767</td>\n",
       "      <td>-1.304843</td>\n",
       "      <td>-0.491912</td>\n",
       "      <td>-0.613005</td>\n",
       "      <td>...</td>\n",
       "      <td>0</td>\n",
       "      <td>1</td>\n",
       "      <td>0</td>\n",
       "      <td>1</td>\n",
       "      <td>1</td>\n",
       "      <td>1</td>\n",
       "      <td>1</td>\n",
       "      <td>0</td>\n",
       "      <td>1</td>\n",
       "      <td>0</td>\n",
       "    </tr>\n",
       "    <tr>\n",
       "      <th>4</th>\n",
       "      <td>False</td>\n",
       "      <td>1.056186</td>\n",
       "      <td>1.104850</td>\n",
       "      <td>0.544205</td>\n",
       "      <td>0.968310</td>\n",
       "      <td>0.678373</td>\n",
       "      <td>-0.770022</td>\n",
       "      <td>0.842162</td>\n",
       "      <td>-0.812626</td>\n",
       "      <td>2.439812</td>\n",
       "      <td>...</td>\n",
       "      <td>0</td>\n",
       "      <td>1</td>\n",
       "      <td>1</td>\n",
       "      <td>1</td>\n",
       "      <td>1</td>\n",
       "      <td>0</td>\n",
       "      <td>0</td>\n",
       "      <td>0</td>\n",
       "      <td>0</td>\n",
       "      <td>0</td>\n",
       "    </tr>\n",
       "  </tbody>\n",
       "</table>\n",
       "<p>5 rows × 71 columns</p>\n",
       "</div>"
      ],
      "text/plain": [
       "   premium_user  popularity_mean  popularity_std  popularity_min  \\\n",
       "0         False        -0.997069       -0.995204       -0.319064   \n",
       "1         False         1.066575        0.740434        2.270742   \n",
       "2         False        -0.997069       -0.995204       -0.319064   \n",
       "3         False        -0.997069       -0.995204       -0.319064   \n",
       "4         False         1.056186        1.104850        0.544205   \n",
       "\n",
       "   popularity_max  duration_ms_mean  duration_ms_std  duration_ms_min  \\\n",
       "0       -0.994713         -1.059379        -0.409611        -0.430490   \n",
       "1        0.713372          0.661699        -0.043242         1.994549   \n",
       "2       -0.994713         -1.429353        -0.963033         0.339053   \n",
       "3       -0.994713         -1.192440        -0.607767        -1.304843   \n",
       "4        0.968310          0.678373        -0.770022         0.842162   \n",
       "\n",
       "   duration_ms_max  explicit_ratio  ...  q  r  s  t  u  v  w  x  y  z  \n",
       "0        -0.491912       -1.065425  ...  0  1  0  1  1  0  1  0  0  0  \n",
       "1        -0.098518        0.176852  ...  0  1  0  1  0  1  1  0  0  0  \n",
       "2        -0.735753       -0.814081  ...  0  1  1  0  1  0  0  0  0  0  \n",
       "3        -0.491912       -0.613005  ...  0  1  0  1  1  1  1  0  1  0  \n",
       "4        -0.812626        2.439812  ...  0  1  1  1  1  0  0  0  0  0  \n",
       "\n",
       "[5 rows x 71 columns]"
      ]
     },
     "execution_count": 11,
     "metadata": {},
     "output_type": "execute_result"
    }
   ],
   "source": [
    "from util import prepare_final\n",
    "\n",
    "final_df = prepare_final(final_df)\n",
    "\n",
    "final_df.head()"
   ]
  },
  {
   "cell_type": "code",
   "execution_count": 12,
   "metadata": {},
   "outputs": [],
   "source": [
    "from sklearn.model_selection import train_test_split\n",
    "\n",
    "X = final_df.drop('premium_user', axis=1).values\n",
    "y = final_df['premium_user'].values\n",
    "\n",
    "X_train, X_test, y_train, y_test = train_test_split(X, y, test_size=0.2, random_state=42)\n",
    "X_train_selected, X_test_selected, _, _ = train_test_split(selected_df, y, test_size=0.2, random_state=42)"
   ]
  },
  {
   "cell_type": "markdown",
   "metadata": {},
   "source": [
    "### Klasyfikator SVM"
   ]
  },
  {
   "cell_type": "markdown",
   "metadata": {},
   "source": [
    "Szukanie parametrów"
   ]
  },
  {
   "cell_type": "code",
   "execution_count": 17,
   "metadata": {},
   "outputs": [
    {
     "name": "stdout",
     "output_type": "stream",
     "text": [
      "Fitting 2 folds for each of 16 candidates, totalling 32 fits\n",
      "Best parameters found:  {'C': 10, 'gamma': 'scale', 'kernel': 'linear'}\n",
      "Best cross-validation score:  0.855631564701578\n"
     ]
    }
   ],
   "source": [
    "from sklearn.svm import SVC\n",
    "from sklearn.model_selection import GridSearchCV\n",
    "\n",
    "param_grid = {\n",
    "    'C': [0.1, 1, 10, 100],\n",
    "    'gamma': ['scale', 'auto'],\n",
    "    'kernel': ['rbf', 'linear']\n",
    "}\n",
    "\n",
    "svc = SVC(probability=True)\n",
    "\n",
    "grid_search = GridSearchCV(estimator=svc, param_grid=param_grid, cv=2, n_jobs=-1, verbose=2, scoring='roc_auc')\n",
    "grid_search.fit(X_train, y_train)\n",
    "\n",
    "best_params = grid_search.best_params_\n",
    "best_score = grid_search.best_score_\n",
    "\n",
    "print(\"Best parameters found: \", best_params)\n",
    "print(\"Best cross-validation score: \", best_score)"
   ]
  },
  {
   "cell_type": "markdown",
   "metadata": {},
   "source": [
    "Uczenie"
   ]
  },
  {
   "cell_type": "code",
   "execution_count": 18,
   "metadata": {},
   "outputs": [],
   "source": [
    "clf = SVC(kernel='linear', probability=True, gamma='scale', C=10.0)\n",
    "clf.fit(X_train_selected, y_train)\n",
    "\n",
    "y_pred = clf.predict(X_test_selected)\n",
    "y_pred_proba = clf.predict_proba(X_test_selected)[:, 1]"
   ]
  },
  {
   "cell_type": "code",
   "execution_count": 14,
   "metadata": {},
   "outputs": [
    {
     "name": "stdout",
     "output_type": "stream",
     "text": [
      "Accuracy: 0.77\n",
      "ROC AUC: 0.84\n",
      "Precision: 0.81\n",
      "Recall: 0.60\n",
      "F1 Score: 0.69\n"
     ]
    },
    {
     "data": {
      "image/png": "[encoded data removed]",
      "text/plain": [
       "<Figure size 640x480 with 2 Axes>"
      ]
     },
     "metadata": {},
     "output_type": "display_data"
    }
   ],
   "source": [
    "import sklearn.metrics as metrics\n",
    "import matplotlib.pyplot as plt\n",
    "\n",
    "accuracy = metrics.accuracy_score(y_test, y_pred)\n",
    "print(f'Accuracy: {accuracy:.2f}')\n",
    "\n",
    "roc_auc = metrics.roc_auc_score(y_test, y_pred_proba)\n",
    "print(f'ROC AUC: {roc_auc:.2f}')\n",
    "\n",
    "precision = metrics.precision_score(y_test, y_pred)\n",
    "print(f'Precision: {precision:.2f}')\n",
    "\n",
    "recall = metrics.recall_score(y_test, y_pred)\n",
    "print(f'Recall: {recall:.2f}')\n",
    "\n",
    "f1 = metrics.f1_score(y_test, y_pred)\n",
    "print(f'F1 Score: {f1:.2f}')\n",
    "\n",
    "cm = metrics.confusion_matrix(y_test, y_pred)\n",
    "disp = metrics.ConfusionMatrixDisplay(confusion_matrix=cm)\n",
    "disp.plot(cmap=plt.cm.Blues)\n",
    "plt.title('Confusion Matrix')\n",
    "plt.show()"
   ]
  },
  {
   "cell_type": "markdown",
   "metadata": {},
   "source": [
    "Save models"
   ]
  },
  {
   "cell_type": "code",
   "execution_count": 19,
   "metadata": {},
   "outputs": [
    {
     "data": {
      "text/plain": [
       "['c:\\\\_prog\\\\vm_shared\\\\Account-Classifier\\\\models\\\\trained\\\\svm_selected_model.joblib']"
      ]
     },
     "execution_count": 19,
     "metadata": {},
     "output_type": "execute_result"
    }
   ],
   "source": [
    "import joblib\n",
    "\n",
    "model_path = os.path.join(current_dir, 'trained', 'svm_selected_model.joblib')\n",
    "\n",
    "joblib.dump(clf, model_path)"
   ]
  }
 ],
 "metadata": {
  "kernelspec": {
   "display_name": "venv",
   "language": "python",
   "name": "python3"
  },
  "language_info": {
   "codemirror_mode": {
    "name": "ipython",
    "version": 3
   },
   "file_extension": ".py",
   "mimetype": "text/x-python",
   "name": "python",
   "nbconvert_exporter": "python",
   "pygments_lexer": "ipython3",
   "version": "3.11.4"
  }
 },
 "nbformat": 4,
 "nbformat_minor": 2
}
