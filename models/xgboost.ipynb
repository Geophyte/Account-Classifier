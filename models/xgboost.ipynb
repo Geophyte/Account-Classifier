{
 "cells": [
  {
   "cell_type": "code",
   "execution_count": 6,
   "metadata": {},
   "outputs": [],
   "source": [
    "import os\n",
    "import pandas as pd\n",
    "from util import set_seed\n",
    "\n",
    "RANDOM_STATE = 42\n",
    "set_seed(RANDOM_STATE)\n",
    "current_dir = os.getcwd()\n",
    "final_path = os.path.join(current_dir, '..', 'data', 'final', 'final.csv')\n",
    "selected_path = os.path.join(current_dir, '..', 'data', 'final', 'selected.csv')\n",
    "\n",
    "final_df = pd.read_csv(final_path)\n",
    "selected_df = pd.read_csv(selected_path).drop(columns=['user_id']).values"
   ]
  },
  {
   "cell_type": "markdown",
   "metadata": {},
   "source": [
    "### Przygotowanie danych"
   ]
  },
  {
   "cell_type": "code",
   "execution_count": 7,
   "metadata": {},
   "outputs": [
    {
     "data": {
      "text/html": [
       "<div>\n",
       "<style scoped>\n",
       "    .dataframe tbody tr th:only-of-type {\n",
       "        vertical-align: middle;\n",
       "    }\n",
       "\n",
       "    .dataframe tbody tr th {\n",
       "        vertical-align: top;\n",
       "    }\n",
       "\n",
       "    .dataframe thead th {\n",
       "        text-align: right;\n",
       "    }\n",
       "</style>\n",
       "<table border=\"1\" class=\"dataframe\">\n",
       "  <thead>\n",
       "    <tr style=\"text-align: right;\">\n",
       "      <th></th>\n",
       "      <th>premium_user</th>\n",
       "      <th>popularity_mean</th>\n",
       "      <th>popularity_std</th>\n",
       "      <th>popularity_mode</th>\n",
       "      <th>popularity_median</th>\n",
       "      <th>popularity_min</th>\n",
       "      <th>popularity_max</th>\n",
       "      <th>duration_ms_mean</th>\n",
       "      <th>duration_ms_std</th>\n",
       "      <th>duration_ms_mode</th>\n",
       "      <th>...</th>\n",
       "      <th>q</th>\n",
       "      <th>r</th>\n",
       "      <th>s</th>\n",
       "      <th>t</th>\n",
       "      <th>u</th>\n",
       "      <th>v</th>\n",
       "      <th>w</th>\n",
       "      <th>x</th>\n",
       "      <th>y</th>\n",
       "      <th>z</th>\n",
       "    </tr>\n",
       "  </thead>\n",
       "  <tbody>\n",
       "    <tr>\n",
       "      <th>0</th>\n",
       "      <td>False</td>\n",
       "      <td>-0.997069</td>\n",
       "      <td>-0.995204</td>\n",
       "      <td>-0.973336</td>\n",
       "      <td>-0.996697</td>\n",
       "      <td>-0.319064</td>\n",
       "      <td>-0.994713</td>\n",
       "      <td>-1.059379</td>\n",
       "      <td>-0.409611</td>\n",
       "      <td>-0.825471</td>\n",
       "      <td>...</td>\n",
       "      <td>0</td>\n",
       "      <td>1</td>\n",
       "      <td>0</td>\n",
       "      <td>1</td>\n",
       "      <td>1</td>\n",
       "      <td>0</td>\n",
       "      <td>1</td>\n",
       "      <td>0</td>\n",
       "      <td>0</td>\n",
       "      <td>0</td>\n",
       "    </tr>\n",
       "    <tr>\n",
       "      <th>1</th>\n",
       "      <td>False</td>\n",
       "      <td>1.066575</td>\n",
       "      <td>0.740434</td>\n",
       "      <td>1.503039</td>\n",
       "      <td>1.097880</td>\n",
       "      <td>2.270742</td>\n",
       "      <td>0.713372</td>\n",
       "      <td>0.661699</td>\n",
       "      <td>-0.043242</td>\n",
       "      <td>1.674050</td>\n",
       "      <td>...</td>\n",
       "      <td>0</td>\n",
       "      <td>1</td>\n",
       "      <td>0</td>\n",
       "      <td>1</td>\n",
       "      <td>0</td>\n",
       "      <td>1</td>\n",
       "      <td>1</td>\n",
       "      <td>0</td>\n",
       "      <td>0</td>\n",
       "      <td>0</td>\n",
       "    </tr>\n",
       "    <tr>\n",
       "      <th>2</th>\n",
       "      <td>False</td>\n",
       "      <td>-0.997069</td>\n",
       "      <td>-0.995204</td>\n",
       "      <td>-0.973336</td>\n",
       "      <td>-0.996697</td>\n",
       "      <td>-0.319064</td>\n",
       "      <td>-0.994713</td>\n",
       "      <td>-1.429353</td>\n",
       "      <td>-0.963033</td>\n",
       "      <td>-0.008440</td>\n",
       "      <td>...</td>\n",
       "      <td>0</td>\n",
       "      <td>1</td>\n",
       "      <td>1</td>\n",
       "      <td>0</td>\n",
       "      <td>1</td>\n",
       "      <td>0</td>\n",
       "      <td>0</td>\n",
       "      <td>0</td>\n",
       "      <td>0</td>\n",
       "      <td>0</td>\n",
       "    </tr>\n",
       "    <tr>\n",
       "      <th>3</th>\n",
       "      <td>False</td>\n",
       "      <td>-0.997069</td>\n",
       "      <td>-0.995204</td>\n",
       "      <td>-0.973336</td>\n",
       "      <td>-0.996697</td>\n",
       "      <td>-0.319064</td>\n",
       "      <td>-0.994713</td>\n",
       "      <td>-1.192440</td>\n",
       "      <td>-0.607767</td>\n",
       "      <td>-0.537427</td>\n",
       "      <td>...</td>\n",
       "      <td>0</td>\n",
       "      <td>1</td>\n",
       "      <td>0</td>\n",
       "      <td>1</td>\n",
       "      <td>1</td>\n",
       "      <td>1</td>\n",
       "      <td>1</td>\n",
       "      <td>0</td>\n",
       "      <td>1</td>\n",
       "      <td>0</td>\n",
       "    </tr>\n",
       "    <tr>\n",
       "      <th>4</th>\n",
       "      <td>False</td>\n",
       "      <td>1.056186</td>\n",
       "      <td>1.104850</td>\n",
       "      <td>1.382240</td>\n",
       "      <td>1.041270</td>\n",
       "      <td>0.544205</td>\n",
       "      <td>0.968310</td>\n",
       "      <td>0.678373</td>\n",
       "      <td>-0.770022</td>\n",
       "      <td>0.873527</td>\n",
       "      <td>...</td>\n",
       "      <td>0</td>\n",
       "      <td>1</td>\n",
       "      <td>1</td>\n",
       "      <td>1</td>\n",
       "      <td>1</td>\n",
       "      <td>0</td>\n",
       "      <td>0</td>\n",
       "      <td>0</td>\n",
       "      <td>0</td>\n",
       "      <td>0</td>\n",
       "    </tr>\n",
       "  </tbody>\n",
       "</table>\n",
       "<p>5 rows × 151 columns</p>\n",
       "</div>"
      ],
      "text/plain": [
       "   premium_user  popularity_mean  popularity_std  popularity_mode  \\\n",
       "0         False        -0.997069       -0.995204        -0.973336   \n",
       "1         False         1.066575        0.740434         1.503039   \n",
       "2         False        -0.997069       -0.995204        -0.973336   \n",
       "3         False        -0.997069       -0.995204        -0.973336   \n",
       "4         False         1.056186        1.104850         1.382240   \n",
       "\n",
       "   popularity_median  popularity_min  popularity_max  duration_ms_mean  \\\n",
       "0          -0.996697       -0.319064       -0.994713         -1.059379   \n",
       "1           1.097880        2.270742        0.713372          0.661699   \n",
       "2          -0.996697       -0.319064       -0.994713         -1.429353   \n",
       "3          -0.996697       -0.319064       -0.994713         -1.192440   \n",
       "4           1.041270        0.544205        0.968310          0.678373   \n",
       "\n",
       "   duration_ms_std  duration_ms_mode  ...  q  r  s  t  u  v  w  x  y  z  \n",
       "0        -0.409611         -0.825471  ...  0  1  0  1  1  0  1  0  0  0  \n",
       "1        -0.043242          1.674050  ...  0  1  0  1  0  1  1  0  0  0  \n",
       "2        -0.963033         -0.008440  ...  0  1  1  0  1  0  0  0  0  0  \n",
       "3        -0.607767         -0.537427  ...  0  1  0  1  1  1  1  0  1  0  \n",
       "4        -0.770022          0.873527  ...  0  1  1  1  1  0  0  0  0  0  \n",
       "\n",
       "[5 rows x 151 columns]"
      ]
     },
     "execution_count": 7,
     "metadata": {},
     "output_type": "execute_result"
    }
   ],
   "source": [
    "from util import prepare_final\n",
    "\n",
    "final_df = prepare_final(final_df)\n",
    "\n",
    "final_df.head()"
   ]
  },
  {
   "cell_type": "code",
   "execution_count": 8,
   "metadata": {},
   "outputs": [],
   "source": [
    "from sklearn.model_selection import train_test_split\n",
    "\n",
    "X = final_df.drop('premium_user', axis=1).values\n",
    "y = final_df['premium_user'].values\n",
    "\n",
    "X_train, X_test, y_train, y_test = train_test_split(X, y, test_size=0.2, random_state=RANDOM_STATE)\n",
    "X_train_selected, X_test_selected, _, _ = train_test_split(selected_df, y, test_size=0.2, random_state=RANDOM_STATE)"
   ]
  },
  {
   "cell_type": "markdown",
   "metadata": {},
   "source": [
    "### Klasyfikator XGboost"
   ]
  },
  {
   "cell_type": "markdown",
   "metadata": {},
   "source": [
    "Szukanie parametrów"
   ]
  },
  {
   "cell_type": "code",
   "execution_count": 9,
   "metadata": {},
   "outputs": [],
   "source": [
    "from xgboost.sklearn import XGBClassifier\n",
    "from sklearn.model_selection import GridSearchCV\n",
    "import sklearn.metrics as metrics\n",
    "import matplotlib.pyplot as plt"
   ]
  },
  {
   "cell_type": "code",
   "execution_count": 5,
   "metadata": {},
   "outputs": [
    {
     "name": "stdout",
     "output_type": "stream",
     "text": [
      "Best parameters found:  {'max_depth': 3, 'min_child_weight': 3}\n",
      "Best score:  0.8827795022275609\n"
     ]
    }
   ],
   "source": [
    "param_test1 = {\n",
    "    'max_depth':range(3,10,2),\n",
    "    'min_child_weight':range(1,6,2)\n",
    "}\n",
    "\n",
    "gsearch1 = GridSearchCV(estimator = XGBClassifier( learning_rate=0.1, n_estimators=140, max_depth=5,\n",
    "    min_child_weight=1, gamma=0, subsample=0.8, colsample_bytree=0.8,\n",
    "    objective= 'binary:logistic', nthread=4, scale_pos_weight=1, seed=27), \n",
    "    param_grid = param_test1, scoring='roc_auc',n_jobs=4, cv=5, random_state=RANDOM_STATE)\n",
    "\n",
    "gsearch1.fit(X_train_selected, y_train)\n",
    "\n",
    "print(\"Best parameters found: \", gsearch1.best_params_)\n",
    "print(\"Best score: \", gsearch1.best_score_)"
   ]
  },
  {
   "cell_type": "code",
   "execution_count": 6,
   "metadata": {},
   "outputs": [
    {
     "name": "stdout",
     "output_type": "stream",
     "text": [
      "Best parameters found:  {'max_depth': 4, 'min_child_weight': 3}\n",
      "Best score:  0.8830409762036198\n"
     ]
    }
   ],
   "source": [
    "param_test2 = {\n",
    "    'max_depth':[2,3,4],\n",
    "    'min_child_weight':[2,3,4]\n",
    "}\n",
    "\n",
    "gsearch2 = GridSearchCV(estimator = XGBClassifier( learning_rate=0.1, n_estimators=140, max_depth=3,\n",
    "    min_child_weight=3, gamma=0, subsample=0.8, colsample_bytree=0.8,\n",
    "    objective= 'binary:logistic', nthread=4, scale_pos_weight=1, seed=27), \n",
    "    param_grid = param_test2, scoring='roc_auc',n_jobs=4, cv=5, random_state=RANDOM_STATE)\n",
    "\n",
    "gsearch2.fit(X_train_selected, y_train)\n",
    "\n",
    "print(\"Best parameters found: \", gsearch2.best_params_)\n",
    "print(\"Best score: \", gsearch2.best_score_)"
   ]
  },
  {
   "cell_type": "code",
   "execution_count": 8,
   "metadata": {},
   "outputs": [
    {
     "name": "stdout",
     "output_type": "stream",
     "text": [
      "Best parameters found:  {'min_child_weight': 9}\n",
      "Best score:  0.8833524073963345\n"
     ]
    }
   ],
   "source": [
    "param_test2b = {\n",
    "    'min_child_weight':[3,5,7,9,11]\n",
    "}\n",
    "\n",
    "gsearch2b = GridSearchCV(estimator = XGBClassifier( learning_rate=0.1, n_estimators=140, max_depth=4,\n",
    "    min_child_weight=3, gamma=0, subsample=0.8, colsample_bytree=0.8,\n",
    "    objective= 'binary:logistic', nthread=4, scale_pos_weight=1, seed=27), \n",
    "    param_grid = param_test2b, scoring='roc_auc',n_jobs=4, cv=5, random_state=RANDOM_STATE)\n",
    "\n",
    "gsearch2b.fit(X_train_selected, y_train)\n",
    "\n",
    "print(\"Best parameters found: \", gsearch2b.best_params_)\n",
    "print(\"Best score: \", gsearch2b.best_score_)"
   ]
  },
  {
   "cell_type": "code",
   "execution_count": 9,
   "metadata": {},
   "outputs": [
    {
     "name": "stdout",
     "output_type": "stream",
     "text": [
      "Best parameters found:  {'gamma': 0.1}\n",
      "Best score:  0.8834080181336134\n"
     ]
    }
   ],
   "source": [
    "param_test3 = {\n",
    "    'gamma':[i/10.0 for i in range(0,5)]\n",
    "}\n",
    "\n",
    "gsearch3 = GridSearchCV(estimator = XGBClassifier( learning_rate=0.1, n_estimators=140, max_depth=4,\n",
    "    min_child_weight=9, gamma=0, subsample=0.8, colsample_bytree=0.8,\n",
    "    objective= 'binary:logistic', nthread=4, scale_pos_weight=1, seed=27), \n",
    "    param_grid = param_test3, scoring='roc_auc',n_jobs=4, cv=5, random_state=RANDOM_STATE)\n",
    "\n",
    "gsearch3.fit(X_train_selected, y_train)\n",
    "\n",
    "print(\"Best parameters found: \", gsearch3.best_params_)\n",
    "print(\"Best score: \", gsearch3.best_score_)"
   ]
  },
  {
   "cell_type": "code",
   "execution_count": 18,
   "metadata": {},
   "outputs": [
    {
     "name": "stdout",
     "output_type": "stream",
     "text": [
      "Best parameters found:  {'gamma': 0.06}\n",
      "Best score:  0.8834704010988291\n"
     ]
    }
   ],
   "source": [
    "param_test3b = {\n",
    "    'gamma':[i/100.0 for i in range(5,20)]\n",
    "}\n",
    "\n",
    "gsearch3b = GridSearchCV(estimator = XGBClassifier( learning_rate=0.1, n_estimators=140, max_depth=4,\n",
    "    min_child_weight=9, gamma=0, subsample=0.8, colsample_bytree=0.8,\n",
    "    objective= 'binary:logistic', nthread=4, scale_pos_weight=1, seed=27), \n",
    "    param_grid = param_test3b, scoring='roc_auc',n_jobs=4, cv=5, random_state=RANDOM_STATE)\n",
    "\n",
    "gsearch3b.fit(X_train_selected, y_train)\n",
    "\n",
    "print(\"Best parameters found: \", gsearch3b.best_params_)\n",
    "print(\"Best score: \", gsearch3b.best_score_)"
   ]
  },
  {
   "cell_type": "code",
   "execution_count": 19,
   "metadata": {},
   "outputs": [
    {
     "name": "stdout",
     "output_type": "stream",
     "text": [
      "Best parameters found:  {'colsample_bytree': 0.7, 'subsample': 0.9}\n",
      "Best score:  0.883433479697304\n"
     ]
    }
   ],
   "source": [
    "param_test4 = {\n",
    "    'subsample':[i/10.0 for i in range(6,10)],\n",
    "    'colsample_bytree':[i/10.0 for i in range(6,10)]\n",
    "}\n",
    "\n",
    "gsearch4 = GridSearchCV(estimator = XGBClassifier( learning_rate=0.1, n_estimators=177, max_depth=4,\n",
    "    min_child_weight=9, gamma=0.06, subsample=0.8, colsample_bytree=0.8,\n",
    "    objective= 'binary:logistic', nthread=4, scale_pos_weight=1, seed=27), \n",
    "    param_grid = param_test4, scoring='roc_auc',n_jobs=4, cv=5, random_state=RANDOM_STATE)\n",
    "\n",
    "gsearch4.fit(X_train_selected, y_train)\n",
    "\n",
    "print(\"Best parameters found: \", gsearch4.best_params_)\n",
    "print(\"Best score: \", gsearch4.best_score_)"
   ]
  },
  {
   "cell_type": "code",
   "execution_count": 21,
   "metadata": {},
   "outputs": [
    {
     "name": "stdout",
     "output_type": "stream",
     "text": [
      "Best parameters found:  {'colsample_bytree': 0.65, 'subsample': 0.8}\n",
      "Best score:  0.8836514011093467\n"
     ]
    }
   ],
   "source": [
    "param_test4b = {\n",
    "    'subsample':[i/100.0 for i in range(80,100,5)],\n",
    "    'colsample_bytree':[i/100.0 for i in range(60,80,5)]\n",
    "}\n",
    "\n",
    "gsearch4b = GridSearchCV(estimator = XGBClassifier( learning_rate=0.1, n_estimators=177, max_depth=4,\n",
    "    min_child_weight=9, gamma=0.06, subsample=0.9, colsample_bytree=0.7,\n",
    "    objective= 'binary:logistic', nthread=4, scale_pos_weight=1, seed=27), \n",
    "    param_grid = param_test4b, scoring='roc_auc',n_jobs=4, cv=5, random_state=RANDOM_STATE)\n",
    "\n",
    "gsearch4b.fit(X_train_selected, y_train)\n",
    "\n",
    "print(\"Best parameters found: \", gsearch4b.best_params_)\n",
    "print(\"Best score: \", gsearch4b.best_score_)"
   ]
  },
  {
   "cell_type": "code",
   "execution_count": 22,
   "metadata": {},
   "outputs": [
    {
     "name": "stdout",
     "output_type": "stream",
     "text": [
      "Best parameters found:  {'reg_alpha': 1}\n",
      "Best score:  0.8827629420313865\n"
     ]
    }
   ],
   "source": [
    "param_test5 = {\n",
    "    'reg_alpha':[0, 1e-5, 1e-2, 0.1, 1, 100]\n",
    "}\n",
    "\n",
    "gsearch5 = GridSearchCV(estimator = XGBClassifier( learning_rate=0.1, n_estimators=177, max_depth=4,\n",
    "    min_child_weight=9, gamma=0.06, subsample=0.8, colsample_bytree=0.75,\n",
    "    objective= 'binary:logistic', nthread=4, scale_pos_weight=1, seed=27), \n",
    "    param_grid = param_test5, scoring='roc_auc',n_jobs=4, cv=5, random_state=RANDOM_STATE)\n",
    "\n",
    "gsearch5.fit(X_train_selected, y_train)\n",
    "\n",
    "print(\"Best parameters found: \", gsearch5.best_params_)\n",
    "print(\"Best score: \", gsearch5.best_score_)"
   ]
  },
  {
   "cell_type": "code",
   "execution_count": 23,
   "metadata": {},
   "outputs": [
    {
     "name": "stdout",
     "output_type": "stream",
     "text": [
      "Best parameters found:  {'reg_alpha': 0.5}\n",
      "Best score:  0.8831357130403161\n"
     ]
    }
   ],
   "source": [
    "param_test5 = {\n",
    "    'reg_alpha':[i/10.0 for i in range(0,20,5)]\n",
    "}\n",
    "\n",
    "gsearch5 = GridSearchCV(estimator = XGBClassifier( learning_rate=0.1, n_estimators=177, max_depth=4,\n",
    "    min_child_weight=9, gamma=0.06, subsample=0.8, colsample_bytree=0.75,\n",
    "    objective= 'binary:logistic', nthread=4, scale_pos_weight=1, seed=27), \n",
    "    param_grid = param_test5, scoring='roc_auc',n_jobs=4, cv=5, random_state=RANDOM_STATE)\n",
    "\n",
    "gsearch5.fit(X_train_selected, y_train)\n",
    "\n",
    "print(\"Best parameters found: \", gsearch5.best_params_)\n",
    "print(\"Best score: \", gsearch5.best_score_)"
   ]
  },
  {
   "cell_type": "markdown",
   "metadata": {},
   "source": [
    "Uczenie"
   ]
  },
  {
   "cell_type": "code",
   "execution_count": 10,
   "metadata": {},
   "outputs": [],
   "source": [
    "clf = XGBClassifier(\n",
    "    learning_rate=0.01,\n",
    "    n_estimators=5000,\n",
    "    max_depth=4,\n",
    "    min_child_weight=9,\n",
    "    gamma=0.06,\n",
    "    subsample=0.8,\n",
    "    colsample_bytree=0.75,\n",
    "    objective='binary:logistic',\n",
    "    nthread=4,\n",
    "    scale_pos_weight=1,\n",
    "    reg_alpha=0.5,\n",
    "    eval_metric='auc',\n",
    "    random_state=RANDOM_STATE)\n",
    "clf.fit(X_train, y_train)\n",
    "\n",
    "y_pred = clf.predict(X_test)\n",
    "y_pred_proba = clf.predict_proba(X_test)[:, 1]"
   ]
  },
  {
   "cell_type": "code",
   "execution_count": 11,
   "metadata": {},
   "outputs": [
    {
     "name": "stdout",
     "output_type": "stream",
     "text": [
      "Accuracy: 0.81\n",
      "ROC AUC: 0.87\n",
      "Precision: 0.81\n",
      "Recall: 0.71\n",
      "F1 Score: 0.75\n"
     ]
    },
    {
     "data": {
      "image/png": "[encoded data removed]",
      "text/plain": [
       "<Figure size 640x480 with 2 Axes>"
      ]
     },
     "metadata": {},
     "output_type": "display_data"
    }
   ],
   "source": [
    "from util import show_metrics\n",
    "\n",
    "show_metrics(y_test, y_pred, y_pred_proba)"
   ]
  },
  {
   "cell_type": "markdown",
   "metadata": {},
   "source": [
    "Po selekcji atrybutów"
   ]
  },
  {
   "cell_type": "code",
   "execution_count": 12,
   "metadata": {},
   "outputs": [],
   "source": [
    "clf_selected = XGBClassifier(\n",
    "    learning_rate=0.01,\n",
    "    n_estimators=5000,\n",
    "    max_depth=3,\n",
    "    min_child_weight=8,\n",
    "    gamma=0,\n",
    "    subsample=0.65,\n",
    "    colsample_bytree=0.75,\n",
    "    objective='binary:logistic',\n",
    "    nthread=4,\n",
    "    scale_pos_weight=1,\n",
    "    reg_alpha=0,\n",
    "    eval_metric='auc',\n",
    "    random_state=RANDOM_STATE)\n",
    "clf_selected.fit(X_train_selected, y_train)\n",
    "\n",
    "y_pred_selected = clf_selected.predict(X_test_selected)\n",
    "y_pred_proba_selected = clf_selected.predict_proba(X_test_selected)[:, 1]"
   ]
  },
  {
   "cell_type": "code",
   "execution_count": 13,
   "metadata": {},
   "outputs": [
    {
     "name": "stdout",
     "output_type": "stream",
     "text": [
      "Accuracy: 0.81\n",
      "ROC AUC: 0.87\n",
      "Precision: 0.81\n",
      "Recall: 0.71\n",
      "F1 Score: 0.75\n"
     ]
    },
    {
     "data": {
      "image/png": "[encoded data removed]",
      "text/plain": [
       "<Figure size 640x480 with 2 Axes>"
      ]
     },
     "metadata": {},
     "output_type": "display_data"
    }
   ],
   "source": [
    "show_metrics(y_test, y_pred, y_pred_proba)"
   ]
  },
  {
   "cell_type": "markdown",
   "metadata": {},
   "source": [
    "Save models"
   ]
  },
  {
   "cell_type": "code",
   "execution_count": 14,
   "metadata": {},
   "outputs": [
    {
     "data": {
      "text/plain": [
       "['c:\\\\_prog\\\\vm_shared\\\\Account-Classifier\\\\models\\\\trained\\\\xgb_selected_model.joblib']"
      ]
     },
     "execution_count": 14,
     "metadata": {},
     "output_type": "execute_result"
    }
   ],
   "source": [
    "import joblib\n",
    "\n",
    "model_path = os.path.join(current_dir, 'trained', 'xgb_model.joblib')\n",
    "model_selected_path = os.path.join(current_dir, 'trained', 'xgb_selected_model.joblib')\n",
    "\n",
    "joblib.dump(clf, model_path)\n",
    "joblib.dump(clf_selected, model_selected_path)"
   ]
  }
 ],
 "metadata": {
  "kernelspec": {
   "display_name": "venv",
   "language": "python",
   "name": "python3"
  },
  "language_info": {
   "codemirror_mode": {
    "name": "ipython",
    "version": 3
   },
   "file_extension": ".py",
   "mimetype": "text/x-python",
   "name": "python",
   "nbconvert_exporter": "python",
   "pygments_lexer": "ipython3",
   "version": "3.11.4"
  }
 },
 "nbformat": 4,
 "nbformat_minor": 2
}
